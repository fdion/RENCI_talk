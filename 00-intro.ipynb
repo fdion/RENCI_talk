{
 "cells": [
  {
   "cell_type": "markdown",
   "metadata": {
    "slideshow": {
     "slide_type": "slide"
    }
   },
   "source": [
    "# Exploratory Visualization of Data and Text\n",
    "\n",
    "## About me\n",
    "\n",
    "<img src=\"i/dr_logo_sm.jpg\" align=left>\n",
    "\n",
    "### Francois Dion\n",
    "\n",
    "Chief Data Scientist\n",
    "\n",
    "Dion Research LLC\n",
    "\n",
    "<a href=\"mailto:fdion@dionresearch.com\">fdion@dionresearch.com</a>\n",
    "\n",
    "<a href=\"https://www.linkedin.com/in/francois-dion-8b639b79\">linkedIn</a>\n",
    "\n",
    "<a href=\"http://twitter.com/f_dion\">@f_dion</a>"
   ]
  },
  {
   "cell_type": "markdown",
   "metadata": {
    "slideshow": {
     "slide_type": "slide"
    }
   },
   "source": [
    "Consulting, training in Data Science\n",
    "\n",
    "Main product:\n",
    "\n",
    "<a href=\"http://visu.ai\"><img src=\"i/logo_transparent.png\"></a>\n",
    "<center>AI driven Data Quality, Risk Auditing & Anomaly Detection</center>"
   ]
  },
  {
   "cell_type": "markdown",
   "metadata": {
    "slideshow": {
     "slide_type": "slide"
    }
   },
   "source": [
    "## Community\n",
    "\n",
    "<a href=\"http://www.pyptug.org\"><img src=\"i/pyptug.png\"></a>\n",
    "\n"
   ]
  },
  {
   "cell_type": "markdown",
   "metadata": {
    "slideshow": {
     "slide_type": "slide"
    }
   },
   "source": [
    "## Open Source\n",
    "\n",
    "<a href=\"http://www.stemgraphic.org/\"><img src=\"i/stemgraphic_logo_orange.png\"></a> <a href=\"https://github.com/dionresearch/\"><img src=\"i/interprestem_logo.png\"></a> <a href=\"https://github.com/dionresearch/kinemathic\"><img src=\"i/kinemathic.png\"></a>"
   ]
  },
  {
   "cell_type": "code",
   "execution_count": null,
   "metadata": {
    "slideshow": {
     "slide_type": "slide"
    }
   },
   "outputs": [],
   "source": [
    "!kine 1322949.csv 20 -c 38 -d -o temperature_animation.mp4 -t 'Temperature in Greensboro for year 2010' -x"
   ]
  }
 ],
 "metadata": {
  "celltoolbar": "Slideshow",
  "kernelspec": {
   "display_name": "Python [default]",
   "language": "python",
   "name": "python3"
  },
  "language_info": {
   "codemirror_mode": {
    "name": "ipython",
    "version": 3
   },
   "file_extension": ".py",
   "mimetype": "text/x-python",
   "name": "python",
   "nbconvert_exporter": "python",
   "pygments_lexer": "ipython3",
   "version": "3.6.3"
  }
 },
 "nbformat": 4,
 "nbformat_minor": 2
}
